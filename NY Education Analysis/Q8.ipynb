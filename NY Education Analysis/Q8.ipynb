{
 "cells": [
  {
   "cell_type": "code",
   "execution_count": 4,
   "metadata": {},
   "outputs": [
    {
     "output_type": "execute_result",
     "data": {
      "text/plain": [
       "<class 'statsmodels.iolib.summary.Summary'>\n",
       "\"\"\"\n",
       "                            OLS Regression Results                            \n",
       "==============================================================================\n",
       "Dep. Variable:            acceptances   R-squared:                       0.704\n",
       "Model:                            OLS   Adj. R-squared:                  0.702\n",
       "Method:                 Least Squares   F-statistic:                     353.2\n",
       "Date:                Tue, 22 Dec 2020   Prob (F-statistic):          2.72e-117\n",
       "Time:                        22:41:11   Log-Likelihood:                -1789.6\n",
       "No. Observations:                 449   AIC:                             3587.\n",
       "Df Residuals:                     445   BIC:                             3604.\n",
       "Df Model:                           3                                         \n",
       "Covariance Type:            nonrobust                                         \n",
       "===================================================================================\n",
       "                      coef    std err          t      P>|t|      [0.025      0.975]\n",
       "-----------------------------------------------------------------------------------\n",
       "const              21.0638      3.007      7.006      0.000      15.155      26.973\n",
       "applications        0.3205      0.013     23.916      0.000       0.294       0.347\n",
       "school_size        -0.0136      0.002     -5.968      0.000      -0.018      -0.009\n",
       "poverty_percent    -0.2384      0.033     -7.283      0.000      -0.303      -0.174\n",
       "==============================================================================\n",
       "Omnibus:                      397.039   Durbin-Watson:                   1.964\n",
       "Prob(Omnibus):                  0.000   Jarque-Bera (JB):            18635.339\n",
       "Skew:                           3.502   Prob(JB):                         0.00\n",
       "Kurtosis:                      33.774   Cond. No.                     3.61e+03\n",
       "==============================================================================\n",
       "\n",
       "Notes:\n",
       "[1] Standard Errors assume that the covariance matrix of the errors is correctly specified.\n",
       "[2] The condition number is large, 3.61e+03. This might indicate that there are\n",
       "strong multicollinearity or other numerical problems.\n",
       "\"\"\""
      ],
      "text/html": "<table class=\"simpletable\">\n<caption>OLS Regression Results</caption>\n<tr>\n  <th>Dep. Variable:</th>       <td>acceptances</td>   <th>  R-squared:         </th> <td>   0.704</td> \n</tr>\n<tr>\n  <th>Model:</th>                   <td>OLS</td>       <th>  Adj. R-squared:    </th> <td>   0.702</td> \n</tr>\n<tr>\n  <th>Method:</th>             <td>Least Squares</td>  <th>  F-statistic:       </th> <td>   353.2</td> \n</tr>\n<tr>\n  <th>Date:</th>             <td>Tue, 22 Dec 2020</td> <th>  Prob (F-statistic):</th> <td>2.72e-117</td>\n</tr>\n<tr>\n  <th>Time:</th>                 <td>22:41:11</td>     <th>  Log-Likelihood:    </th> <td> -1789.6</td> \n</tr>\n<tr>\n  <th>No. Observations:</th>      <td>   449</td>      <th>  AIC:               </th> <td>   3587.</td> \n</tr>\n<tr>\n  <th>Df Residuals:</th>          <td>   445</td>      <th>  BIC:               </th> <td>   3604.</td> \n</tr>\n<tr>\n  <th>Df Model:</th>              <td>     3</td>      <th>                     </th>     <td> </td>    \n</tr>\n<tr>\n  <th>Covariance Type:</th>      <td>nonrobust</td>    <th>                     </th>     <td> </td>    \n</tr>\n</table>\n<table class=\"simpletable\">\n<tr>\n         <td></td>            <th>coef</th>     <th>std err</th>      <th>t</th>      <th>P>|t|</th>  <th>[0.025</th>    <th>0.975]</th>  \n</tr>\n<tr>\n  <th>const</th>           <td>   21.0638</td> <td>    3.007</td> <td>    7.006</td> <td> 0.000</td> <td>   15.155</td> <td>   26.973</td>\n</tr>\n<tr>\n  <th>applications</th>    <td>    0.3205</td> <td>    0.013</td> <td>   23.916</td> <td> 0.000</td> <td>    0.294</td> <td>    0.347</td>\n</tr>\n<tr>\n  <th>school_size</th>     <td>   -0.0136</td> <td>    0.002</td> <td>   -5.968</td> <td> 0.000</td> <td>   -0.018</td> <td>   -0.009</td>\n</tr>\n<tr>\n  <th>poverty_percent</th> <td>   -0.2384</td> <td>    0.033</td> <td>   -7.283</td> <td> 0.000</td> <td>   -0.303</td> <td>   -0.174</td>\n</tr>\n</table>\n<table class=\"simpletable\">\n<tr>\n  <th>Omnibus:</th>       <td>397.039</td> <th>  Durbin-Watson:     </th> <td>   1.964</td> \n</tr>\n<tr>\n  <th>Prob(Omnibus):</th> <td> 0.000</td>  <th>  Jarque-Bera (JB):  </th> <td>18635.339</td>\n</tr>\n<tr>\n  <th>Skew:</th>          <td> 3.502</td>  <th>  Prob(JB):          </th> <td>    0.00</td> \n</tr>\n<tr>\n  <th>Kurtosis:</th>      <td>33.774</td>  <th>  Cond. No.          </th> <td>3.61e+03</td> \n</tr>\n</table><br/><br/>Notes:<br/>[1] Standard Errors assume that the covariance matrix of the errors is correctly specified.<br/>[2] The condition number is large, 3.61e+03. This might indicate that there are<br/>strong multicollinearity or other numerical problems."
     },
     "metadata": {},
     "execution_count": 4
    }
   ],
   "source": [
    "import pandas as pd\n",
    "import numpy as np\n",
    "import matplotlib.pyplot as plt\n",
    "from sklearn import linear_model\n",
    "import statsmodels.api as sm\n",
    "\n",
    "\n",
    "df = pd.read_csv(\"middleSchoolData.csv\")  \n",
    "df= df.dropna()\n",
    "dfx=(df-df.mean())/df.std()\n",
    "\n",
    "y2 = dfx[\"student_achievement\"] + dfx[\"reading_scores_exceed\"] + dfx[\"math_scores_exceed\"]\n",
    "y2=y2/3\n",
    "\n",
    "\n",
    "df1 = df\n",
    "\n",
    "df1 = df1.drop([\"acceptances\"], axis=1)\n",
    "\n",
    "X1 = df1.loc[:, \"applications\":\"school_size\"]\n",
    "X2 = df[[\"applications\",\"school_size\",\"poverty_percent\"]]\n",
    "X3 = df[[\"applications\",\"rigorous_instruction\",\"disability_percent\",\"poverty_percent\"]]\n",
    "\n",
    "\n",
    "y= df[\"acceptances\"]\n",
    "#model.fit(X, y)\n",
    "X = sm.add_constant(X2)\n",
    "result = sm.OLS(y, X).fit()\n",
    "result.summary()\n",
    "\n"
   ]
  },
  {
   "cell_type": "code",
   "execution_count": null,
   "metadata": {},
   "outputs": [],
   "source": []
  },
  {
   "cell_type": "code",
   "execution_count": null,
   "metadata": {},
   "outputs": [],
   "source": []
  }
 ],
 "metadata": {
  "kernelspec": {
   "display_name": "Python 3",
   "language": "python",
   "name": "python3"
  },
  "language_info": {
   "codemirror_mode": {
    "name": "ipython",
    "version": 3
   },
   "file_extension": ".py",
   "mimetype": "text/x-python",
   "name": "python",
   "nbconvert_exporter": "python",
   "pygments_lexer": "ipython3",
   "version": "3.8.3-final"
  }
 },
 "nbformat": 4,
 "nbformat_minor": 4
}