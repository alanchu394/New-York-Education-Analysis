{
 "cells": [
  {
   "cell_type": "code",
   "execution_count": 6,
   "metadata": {},
   "outputs": [
    {
     "name": "stdout",
     "output_type": "stream",
     "text": [
      "0.6587507529002673\n",
      "0.8017663709452795\n"
     ]
    }
   ],
   "source": [
    "import pandas as pd\n",
    "import numpy as np\n",
    "import matplotlib.pyplot as plt\n",
    "\n",
    "\n",
    "df = pd.read_csv(\"middleSchoolData.csv\")  \n",
    "\n",
    "df = df.dropna(subset=[\"school_size\"])\n",
    "applicationRates = df[\"applications\"] / df[\"school_size\"]\n",
    "\n",
    "applicationRates =(applicationRates-applicationRates.mean())/applicationRates.std()\n",
    "\n",
    "\n",
    "\n",
    "\n",
    "#plt.scatter(applicationRates,df[\"acceptances\"])\n",
    "x = applicationRates\n",
    "y = df[\"acceptances\"]\n",
    "x2 = df[\"applications\"]\n",
    "correlation = x.corr(y)\n",
    "correlation2 = x2.corr(y)\n",
    "print(correlation)\n",
    "print(correlation2)\n",
    " "
   ]
  },
  {
   "cell_type": "code",
   "execution_count": 18,
   "metadata": {},
   "outputs": [
    {
     "name": "stdout",
     "output_type": "stream",
     "text": [
      "0.8017663709452795\n"
     ]
    }
   ],
   "source": [
    "import pandas as pd\n",
    "import numpy as np\n",
    "from scipy import stats\n",
    "import statsmodels.formula.api as smf\n",
    "df = pd.read_csv(\"middleSchoolData.csv\")  \n",
    "df = df.dropna(subset=[\"school_size\"])\n",
    "\n",
    "# standardizing dataframe\n",
    "df_z = df.select_dtypes(include=[np.number]).apply(stats.zscore)\n",
    "\n",
    "# fitting regression\n",
    "formula = 'y ~ x1 + x2'\n",
    "result = smf.ols(formula, data=df_z).fit()\n",
    "\n",
    "# checking results\n",
    "#result.summary()\n",
    "\n",
    "y = df[\"acceptances\"]\n",
    "x2 = df[\"applications\"]\n",
    "\n",
    "correlation2 = x2.corr(y)\n",
    "print(correlation2)"
   ]
  },
  {
   "cell_type": "code",
   "execution_count": null,
   "metadata": {},
   "outputs": [],
   "source": []
  }
 ],
 "metadata": {
  "kernelspec": {
   "display_name": "Python 3",
   "language": "python",
   "name": "python3"
  },
  "language_info": {
   "codemirror_mode": {
    "name": "ipython",
    "version": 3
   },
   "file_extension": ".py",
   "mimetype": "text/x-python",
   "name": "python",
   "nbconvert_exporter": "python",
   "pygments_lexer": "ipython3",
   "version": "3.8.3"
  }
 },
 "nbformat": 4,
 "nbformat_minor": 4
}
